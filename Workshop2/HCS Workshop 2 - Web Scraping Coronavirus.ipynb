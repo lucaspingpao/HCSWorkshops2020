{
 "cells": [
  {
   "cell_type": "code",
   "execution_count": 1,
   "metadata": {},
   "outputs": [],
   "source": [
    "# HCS Workshop 2 COMP PROJECT, Web Scraping"
   ]
  },
  {
   "cell_type": "code",
   "execution_count": 2,
   "metadata": {},
   "outputs": [],
   "source": [
    "# Author: Lucas Pao\n",
    "# Inspired by Comp Author: Will Cooper"
   ]
  },
  {
   "cell_type": "code",
   "execution_count": 6,
   "metadata": {},
   "outputs": [
    {
     "name": "stdout",
     "output_type": "stream",
     "text": [
      "200\n"
     ]
    }
   ],
   "source": [
    "# import requests package and set up page\n",
    "\n",
    "import requests\n",
    "page = requests.get(\"https://www.worldometers.info/coronavirus/\")\n",
    "print(page.status_code)"
   ]
  },
  {
   "cell_type": "code",
   "execution_count": 11,
   "metadata": {},
   "outputs": [],
   "source": [
    "# import BeautifulSoup and make a \"BeautifulSoup object\"\n",
    "# sudo apt-get install python-bs4\n",
    "\n",
    "from bs4 import BeautifulSoup\n",
    "soup = BeautifulSoup(page.content, \"html.parser\")"
   ]
  },
  {
   "cell_type": "code",
   "execution_count": 152,
   "metadata": {},
   "outputs": [
    {
     "name": "stdout",
     "output_type": "stream",
     "text": [
      "{'World': '46,840,871', 'USA': '9,478,638', 'India': '8,229,322', 'Brazil': '5,545,705', 'Russia': '1,636,781', 'France': '1,413,915', 'Spain': '1,294,747', 'Argentina': '1,173,533', 'Colombia': '1,083,321', 'UK': '1,034,914', 'Mexico': '924,962', 'Peru': '904,911', 'Italy': '709,335', 'South Africa': '726,823', 'Iran': '620,491', 'Germany': '544,346', 'Chile': '511,864', 'Iraq': '475,288', 'Belgium': '429,229', 'Indonesia': '412,784', 'Bangladesh': '409,252', 'Ukraine': '395,440', 'Poland': '379,902', 'Philippines': '383,102', 'Turkey': '377,473', 'Netherlands': '359,861', 'Czechia': '341,644', 'Saudi Arabia': '347,656', 'Pakistan': '333,970', 'Israel': '314,943', 'Romania': '246,663', 'Canada': '236,841', 'Morocco': '222,544', 'Nepal': '173,567', 'Switzerland': '154,251', 'Ecuador': '169,194', 'Portugal': '144,341', 'Bolivia': '141,757', 'UAE': '133,907', 'Panama': '134,336', 'Qatar': '132,720', 'Dominican Republic': '127,332', 'Kuwait': '126,534', 'Sweden': '124,355', 'Oman': '115,734', 'Austria': '109,881', 'Kazakhstan': '112,418', 'Costa Rica': '110,717', 'Guatemala': '108,104', 'Egypt': '107,736', 'Japan': '101,146', 'Belarus': '99,459', 'Honduras': '97,404', 'Ethiopia': '96,583', 'Armenia': '92,254', 'Venezuela': '92,325', 'Lebanon': '82,617', 'Hungary': '79,199', 'Bahrain': '81,923', 'Jordan': '75,866', 'Moldova': '76,582', 'Uzbekistan': '67,101', 'Paraguay': '63,731', 'Nigeria': '62,964', 'Libya': '62,045', 'Ireland': '62,002', 'Tunisia': '61,115', 'Slovakia': '59,946', 'Kyrgyzstan': '59,443', 'Algeria': '58,272', 'Singapore': '58,019', 'Azerbaijan': '56,444', 'Kenya': '55,877', 'Bulgaria': '54,069', 'Palestine': '54,060', 'Myanmar': '53,405', 'Croatia': '51,495', 'Bosnia and Herzegovina': '51,505', 'Serbia': '48,403', 'Denmark': '47,299', 'Ghana': '48,124', 'Georgia': '40,727', 'Greece': '40,929', 'Afghanistan': '41,501', 'Slovenia': '35,649', 'El Salvador': '34,015', 'Malaysia': '32,505', 'North Macedonia': '32,436', 'Australia': '27,595', 'S. Korea': '26,635', 'Cameroon': '22,103', 'Albania': '21,202', 'Norway': '20,635', 'Ivory Coast': '20,716', 'Montenegro': '18,714', 'Luxembourg': '18,782', 'Madagascar': '17,111', 'Lithuania': '15,719', 'Zambia': '16,480', 'Finland': '16,291', 'Senegal': '15,630', 'Sudan': '13,819', 'Mozambique': '12,988', 'Namibia': '12,988', 'Uganda': '12,743', 'Guinea': '12,195', 'Maldives': '11,701', 'DRC': '11,373', 'Sri Lanka': '11,060', 'Angola': '11,035', 'Tajikistan': '11,054', 'French Guiana': '10,536', 'Jamaica': '9,131', 'Haiti': '9,057', 'Gabon': '8,968', 'Cabo Verde': '8,848', 'French Polynesia': '7,262', 'Zimbabwe': '8,374', 'Mauritania': '7,704', 'Guadeloupe': '7,605', 'Cuba': '6,935', 'Bahamas': '6,714', 'Botswana': '6,642', 'Malta': '6,182', 'Latvia': '6,136', 'Malawi': '5,932', 'Eswatini': '5,925', 'Réunion': '5,659', 'Syria': '5,789', 'Trinidad and Tobago': '5,704', 'Djibouti': '5,563', 'Nicaragua': '5,514', 'Hong Kong': '5,331', 'Congo': '5,290', 'Suriname': '5,210', 'Rwanda': '5,146', 'Equatorial Guinea': '5,088', 'Estonia': '4,985', 'Iceland': '4,890', 'Andorra': '4,825', 'CAR': '4,866', 'Cyprus': '4,563', 'Aruba': '4,519', 'Mayotte': '4,366', 'Guyana': '4,208', 'Somalia': '3,941', 'Thailand': '3,784', 'Gambia': '3,672', 'Belize': '3,487', 'Mali': '3,565', 'Martinique': '3,552', 'Uruguay': '3,149', 'South Sudan': '2,926', 'Benin': '2,683', 'Burkina Faso': '2,500', 'Guinea-Bissau': '2,413', 'Sierra Leone': '2,366', 'Togo': '2,357', 'Yemen': '2,063', 'New Zealand': '1,959', 'Lesotho': '1,953', 'Chad': '1,498', 'Liberia': '1,426', 'Niger': '1,221', 'Vietnam': '1,180', 'Curaçao': '987', 'Sao Tome and Principe': '949', 'San Marino': '928', 'Channel Islands': '841', 'Sint Maarten': '831', 'Diamond Princess': '712', 'Gibraltar': '703', 'Turks and Caicos': '704', 'Liechtenstein': '551', 'Papua New Guinea': '589', 'Burundi': '589', 'Saint Martin': '566', 'Taiwan': '558', 'Comoros': '545', 'Tanzania': '509', 'Faeroe Islands': '495', 'Eritrea': '463', 'Mauritius': '446', 'Monaco': '366', 'Bhutan': '349', 'Isle of Man': '353', 'Mongolia': '346', 'Cambodia': '291', 'Cayman Islands': '240', 'Barbados': '237', 'Bermuda': '199', 'Caribbean Netherlands': '153', 'Seychelles': '153', 'Brunei ': '148', 'Antigua and Barbuda': '128', 'Saint Lucia': '84', 'St. Barth': '83', 'St. Vincent Grenadines': '75', 'British Virgin Islands': '71', 'Dominica': '50', 'Macao': '46', 'Fiji': '34', 'Timor-Leste': '30', 'Grenada': '28', 'New Caledonia': '28', 'Vatican City': '27', 'Laos': '24', 'Saint Kitts and Nevis': '19', 'Greenland': '17', 'Saint Pierre Miquelon': '16', 'Montserrat': '13', 'Falkland Islands': '13', 'Solomon Islands': '8', 'Western Sahara': '10', 'MS Zaandam': '9', 'Anguilla': '3', 'Marshall Islands': '2', 'Wallis and Futuna': '1', 'China': '85,997', 'Total:': '46,840,871', '\\nAsia\\n': '13,767,121', '\\nNorth America\\n': '11,319,071', '\\nSouth America\\n': '9,709,457', '\\nEurope\\n': '10,201,203', '\\nAfrica\\n': '1,805,820', '\\nOceania\\n': '37,478', '\\n\\n': '721'}\n"
     ]
    }
   ],
   "source": [
    "# list soup children, title, etc. \n",
    "countryRows = list()\n",
    "trs = soup.find_all('tr')\n",
    "\n",
    "for tr in trs:\n",
    "    countryRows.append(tr.find_all('td'))\n",
    "countryRows = countryRows[8:len(countryRows)]\n",
    "\n",
    "totalCases = {}\n",
    "\n",
    "for country in countryRows:\n",
    "    if(len(country) > 0):\n",
    "        name = country[1].getText()\n",
    "        cases = country[2].getText()\n",
    "        totalCases[name] = cases\n",
    "print(totalCases)\n",
    "# In the end, we get a dictionary listing all the countries and their corresponding total number of coronavirus cases."
   ]
  },
  {
   "cell_type": "code",
   "execution_count": 8,
   "metadata": {},
   "outputs": [],
   "source": [
    "# more sources? \n",
    "# https://beautiful-soup-4.readthedocs.io/en/latest/\n",
    "# https://www.dataquest.io/blog/web-scraping-tutorial-python/"
   ]
  },
  {
   "cell_type": "code",
   "execution_count": 10,
   "metadata": {},
   "outputs": [],
   "source": [
    "# regular expressions, searching by text \n",
    "# https://docs.python.org/3/library/re.html\n",
    "\n",
    "import re "
   ]
  },
  {
   "cell_type": "code",
   "execution_count": null,
   "metadata": {},
   "outputs": [],
   "source": [
    "# https://stackoverflow.com/questions/47928608/how-to-use-beautifulsoup-to-parse-google-search-results-in-python\n",
    "# quick example of using BeautifulSoup to Google for you "
   ]
  }
 ],
 "metadata": {
  "kernelspec": {
   "display_name": "Python 3",
   "language": "python",
   "name": "python3"
  },
  "language_info": {
   "codemirror_mode": {
    "name": "ipython",
    "version": 3
   },
   "file_extension": ".py",
   "mimetype": "text/x-python",
   "name": "python",
   "nbconvert_exporter": "python",
   "pygments_lexer": "ipython3",
   "version": "3.7.4"
  }
 },
 "nbformat": 4,
 "nbformat_minor": 4
}
